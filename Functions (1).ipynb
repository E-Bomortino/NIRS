{
 "cells": [
  {
   "cell_type": "markdown",
   "id": "dfd166ff",
   "metadata": {},
   "source": [
    "### This notebook is to keep track of all the functions, their order, and what they do."
   ]
  },
  {
   "cell_type": "markdown",
   "id": "2243c073",
   "metadata": {},
   "source": [
    "# Imports"
   ]
  },
  {
   "cell_type": "code",
   "execution_count": 2,
   "id": "93b61cda",
   "metadata": {},
   "outputs": [],
   "source": [
    "from pyampd.ampd import find_peaks #Normal AMPD algorithm. AMPD files must be downloaded as well and in the same file\n",
    "import csv                         #csv reader\n",
    "import matplotlib.pyplot as plt    #Plotting capabilities\n",
    "import numpy as np                 #Mathematical operations on large arrays\n",
    "import statistics                  #allows for statistical operations\n",
    "from scipy.signal import savgol_filter  #Savitzky-Golay filter. Must have SciPy installed"
   ]
  },
  {
   "cell_type": "markdown",
   "id": "1ba3a6e1",
   "metadata": {},
   "source": [
    "# Data Analysis"
   ]
  },
  {
   "cell_type": "markdown",
   "id": "9d762e73",
   "metadata": {},
   "source": [
    "## Data Retrieval"
   ]
  },
  {
   "cell_type": "markdown",
   "id": "56c4c7d5",
   "metadata": {},
   "source": [
    "This function retrieves the data from the sensor band (more specifically the SEEDs Studio Bluetooth Module)"
   ]
  },
  {
   "cell_type": "markdown",
   "id": "019a6b01",
   "metadata": {},
   "source": [
    "The code below creates classes for each sensor band to make it easer to store data and call later."
   ]
  },
  {
   "cell_type": "code",
   "execution_count": null,
   "id": "57cb37f5",
   "metadata": {},
   "outputs": [],
   "source": [
    "class One:\n",
    "    signals = [[],[],[]]\n",
    "    time = []\n",
    "    SpO2 = []\n",
    "    temp = []\n",
    "    cs_ratio = []\n",
    "    pair_band = \"\"\n",
    "class Two:\n",
    "    signals = [[],[],[]]\n",
    "    time = []\n",
    "    SpO2 = []\n",
    "    temp = []\n",
    "    cs_ratio = []\n",
    "    pair_band = \"\"\n",
    "class Three:\n",
    "    signals = [[],[],[]]\n",
    "    time = []\n",
    "    SpO2 = []\n",
    "    temp = []\n",
    "    cs_ratio = []\n",
    "    pair_band = \"\"\n",
    "class Four:\n",
    "    signals = [[],[],[]]\n",
    "    time = []\n",
    "    SpO2 = []\n",
    "    temp = []\n",
    "    cs_ratio = []\n",
    "    pair_band = \"\"\n",
    "class Five:\n",
    "    signals = [[],[],[]]\n",
    "    time = []\n",
    "    SpO2 = []\n",
    "    temp = []\n",
    "    cs_ratio = []\n",
    "    pair_band = \"\"\n",
    "class Six:\n",
    "    signals = [[],[],[]]\n",
    "    time = []\n",
    "    SpO2 = []\n",
    "    temp = []\n",
    "    cs_ratio = []\n",
    "    pair_band = \"\"\n",
    "class Seven:\n",
    "    signals = [[],[],[]]\n",
    "    time = []\n",
    "    SpO2 = []\n",
    "    temp = []\n",
    "    cs_ratio = []\n",
    "    pair = \"\"\n",
    "class Eight:\n",
    "    signals = [[],[],[]]\n",
    "    time = []\n",
    "    SpO2 = []\n",
    "    temp = []\n",
    "    cs_ratio = []\n",
    "class Nine:\n",
    "    signals = [[],[],[]]\n",
    "    time = []\n",
    "    SpO2 = []\n",
    "    temp = []\n",
    "    cs_ratio = []\n",
    "    pair = \"\"\n",
    "class Ten:\n",
    "    signals = [[],[],[]]\n",
    "    time = []\n",
    "    SpO2 = []\n",
    "    temp = []\n",
    "    cs_ratio = []\n",
    "    pair = \"\""
   ]
  },
  {
   "cell_type": "markdown",
   "id": "e6f3448f",
   "metadata": {},
   "source": [
    "The dictionary below makes it so that the user input can actually call the class (strings don't call classes)"
   ]
  },
  {
   "cell_type": "code",
   "execution_count": null,
   "id": "048318eb",
   "metadata": {},
   "outputs": [],
   "source": [
    "myDict = {\"1\": One, \"2\": Two, \"3\": Three, \"4\": Four, \"5\": Five, \"6\": Six, \"7\": Seven, \"8\": Eight, \"9\": Nine, \"10\": Ten}"
   ]
  },
  {
   "cell_type": "markdown",
   "id": "e5a7635a",
   "metadata": {},
   "source": [
    "This block of code actually creates the retrieval function and uses it."
   ]
  },
  {
   "cell_type": "code",
   "execution_count": null,
   "id": "531fd733",
   "metadata": {},
   "outputs": [],
   "source": [
    "def BT_Receive(band_num):\n",
    "    band_num.signals = [raw_absorb_700, raw_absorb_850, raw_absorb_890] #list of lists, the absorbance for each wavelength\n",
    "    band_num.time = [raw_time]\n",
    "    band_num.temp = [raw_temp]\n",
    "\n",
    "#Example of usage below. May change this to make code know which bands are BT connected\n",
    "band_nums = []\n",
    "user_input = input(\"Enter the numbers of the connected bands. Separate by spaces or commas: \")\n",
    "my_string = user_input.replace(',',' ')\n",
    "band_nums = my_string.split()\n",
    "    \n",
    "BT_Receive(myDict[band]) for band in band_nums #myDict[band] translates the list of strings to the class name to be called"
   ]
  },
  {
   "cell_type": "markdown",
   "id": "caa4bf78",
   "metadata": {},
   "source": [
    "## Data Cleanup"
   ]
  },
  {
   "cell_type": "markdown",
   "id": "6a5d1606",
   "metadata": {},
   "source": [
    "Filter data as needed to get rid of as much noise as possible using the Savitzky-Golay filter."
   ]
  },
  {
   "cell_type": "code",
   "execution_count": 1,
   "id": "52c07594",
   "metadata": {},
   "outputs": [
    {
     "ename": "NameError",
     "evalue": "name 'plt' is not defined",
     "output_type": "error",
     "traceback": [
      "\u001b[1;31m---------------------------------------------------------------------------\u001b[0m",
      "\u001b[1;31mNameError\u001b[0m                                 Traceback (most recent call last)",
      "Cell \u001b[1;32mIn[1], line 5\u001b[0m\n\u001b[0;32m      1\u001b[0m \u001b[38;5;28;01mfrom\u001b[39;00m \u001b[38;5;21;01mscipy\u001b[39;00m\u001b[38;5;21;01m.\u001b[39;00m\u001b[38;5;21;01msignal\u001b[39;00m \u001b[38;5;28;01mimport\u001b[39;00m savgol_filter\n\u001b[1;32m----> 5\u001b[0m plt\u001b[38;5;241m.\u001b[39mplot(time, Fdownstream)\n\u001b[0;32m      6\u001b[0m plt\u001b[38;5;241m.\u001b[39mxlabel(\u001b[38;5;124m\"\u001b[39m\u001b[38;5;124mTime (s)\u001b[39m\u001b[38;5;124m\"\u001b[39m)\n\u001b[0;32m      7\u001b[0m plt\u001b[38;5;241m.\u001b[39mylabel(\u001b[38;5;124m\"\u001b[39m\u001b[38;5;124mFrequency (Hz)\u001b[39m\u001b[38;5;124m\"\u001b[39m)\n",
      "\u001b[1;31mNameError\u001b[0m: name 'plt' is not defined"
     ]
    }
   ],
   "source": [
    "for band in band_nums:\n",
    "     for signal in myDict[band].signals:\n",
    "            #filters the signals while maintaining the list of lists format\n",
    "            myDict[band].signals = savgol_filter(myDict[band].signals, window legnth, polynomial order)\n",
    "            #Not sure if we want this filter for temp too"
   ]
  },
  {
   "cell_type": "markdown",
   "id": "caedaf37",
   "metadata": {},
   "source": [
    "## SpO2 %"
   ]
  },
  {
   "cell_type": "markdown",
   "id": "835815dc",
   "metadata": {},
   "source": [
    "Determines absorbance, then uses equation and calibraton coefficients to determine tissue oxygen content."
   ]
  },
  {
   "cell_type": "code",
   "execution_count": null,
   "id": "c735f5d3",
   "metadata": {},
   "outputs": [],
   "source": [
    "def SpO2(absorbances):\n",
    "    '''\n",
    "    Refer to \"11/21 Group Pres to Wilson\" from Fall 2023 for the math.\n",
    "    Reference: https://patentimages.storage.googleapis.com/1f/85/02/e884e4fec6d945/US6456862.pdf\n",
    "    \n",
    "    Absorbance coefficients for oxyhemoglobin and deoxyhemoglobin at 700 nm, 850 nm, & 890 nm, respectively.\n",
    "    Reference: https://www.sciencedirect.com/science/article/pii/0005272888900692?via%3Dihub\n",
    "    '''\n",
    "    \n",
    "    coeff_HbO2 = (0.421 1.097 1.226)\n",
    "    coeff_Hb = (1.798 0.781 0.866)\n",
    "    alpha_matrix = "
   ]
  },
  {
   "cell_type": "markdown",
   "id": "d3ae4491",
   "metadata": {},
   "source": [
    "## Peak Detection"
   ]
  },
  {
   "cell_type": "markdown",
   "id": "e311d398",
   "metadata": {},
   "source": [
    "This function detects the peaks in the data for heart beat (essentially the R peak in an ECG) module using the AMPD algorithm."
   ]
  },
  {
   "cell_type": "code",
   "execution_count": null,
   "id": "217b2c7c",
   "metadata": {},
   "outputs": [],
   "source": [
    "R_peaks = find_peaks(signal) #Returns the indices of occurance"
   ]
  },
  {
   "cell_type": "markdown",
   "id": "d45f80a4",
   "metadata": {},
   "source": [
    "## Beats per Minute"
   ]
  },
  {
   "cell_type": "markdown",
   "id": "a767d06d",
   "metadata": {},
   "source": [
    "Determines heart rate by dividing peaks by the fraction of a minute that has passed. We'll have to determine how often this is evaluated."
   ]
  },
  {
   "cell_type": "code",
   "execution_count": null,
   "id": "60e71f3f",
   "metadata": {},
   "outputs": [],
   "source": [
    "sec = 15\n",
    "interval = 15 #Assuming it's one reading per sec\n",
    "i = 0\n",
    "while sec <= len(time): #This will change to while it's BT connected to band(s)\n",
    "    beats = 0\n",
    "    for index in peaks:\n",
    "        if index <= sec and index > (sec-interval):\n",
    "            beats += 1\n",
    "    print(\"bpm: \", beats/.25)\n",
    "    sec = sec + interval"
   ]
  },
  {
   "cell_type": "markdown",
   "id": "41df11fd",
   "metadata": {},
   "source": [
    "## Heart Rate Variability"
   ]
  },
  {
   "cell_type": "markdown",
   "id": "daf8ad59",
   "metadata": {},
   "source": [
    "Determines heart rate variability (hrv) by determining the mean of the time between each peak."
   ]
  },
  {
   "cell_type": "code",
   "execution_count": null,
   "id": "bc13ae1f",
   "metadata": {},
   "outputs": [],
   "source": [
    "def hrv(peaks):\n",
    "    return statistics.mean(np.diff(peaks)) #np.diff determines the difference between each peak\n",
    "    #Need to translate indices to time in ms"
   ]
  },
  {
   "cell_type": "markdown",
   "id": "a8fac113",
   "metadata": {},
   "source": [
    "## Cerebrosplanic Ratio"
   ]
  },
  {
   "cell_type": "markdown",
   "id": "cc0239b6",
   "metadata": {},
   "source": [
    "Takes info from the two sensor bands on the same rat, uses the SpO2 % function, and calculates the ratio"
   ]
  },
  {
   "cell_type": "code",
   "execution_count": null,
   "id": "f8264702",
   "metadata": {},
   "outputs": [],
   "source": [
    "user_input_1 = input(\"Enter the numbers of the sensor bands that are on the same rat. Enter cerebral sensor band first. Separate with commas or spaces: \")\n",
    "a_string = user_input_1.replace(',',' ')\n",
    "pair_nums = a_string.split()\n",
    "myDict[pair_nums[0]].cs_ratio = myDict[pair_nums[1]].cs_ratio = myDict[pair_nums[0]].SpO2/myDict[pair_nums[1]].SpO2\n",
    "#Also may need to evaluate this every 15 secs (like bpm) or something like that\n",
    "\n",
    "#Storing the pairs to write to csv file later\n",
    "myDict[pair_nums[0]].pair_band = pair_nums[1]\n",
    "myDict[pair_nums[1]].pair_band = pair_nums[0]"
   ]
  },
  {
   "cell_type": "markdown",
   "id": "6dba9d59",
   "metadata": {},
   "source": [
    "## Determine temperature"
   ]
  },
  {
   "cell_type": "code",
   "execution_count": null,
   "id": "be7edf07",
   "metadata": {},
   "outputs": [],
   "source": [
    "def temp(data):\n",
    "    return \n",
    "\n",
    "for band in band_nums:\n",
    "    myDict[band].temp = temp(myDict[band].temp)"
   ]
  },
  {
   "cell_type": "markdown",
   "id": "02871143",
   "metadata": {},
   "source": [
    "## "
   ]
  },
  {
   "cell_type": "markdown",
   "id": "059815e9",
   "metadata": {},
   "source": [
    "# User interface"
   ]
  },
  {
   "cell_type": "markdown",
   "id": "2964eb18",
   "metadata": {},
   "source": [
    "## Connect sensor bands bluetooth"
   ]
  },
  {
   "cell_type": "markdown",
   "id": "8809b94c",
   "metadata": {},
   "source": [
    "Connect from the RPi to the sensor bands with bluetooth. Need to make sure each sensor band has a unique number/name (i.e., 1 - 20)"
   ]
  },
  {
   "cell_type": "code",
   "execution_count": null,
   "id": "7acb7c76",
   "metadata": {},
   "outputs": [],
   "source": []
  },
  {
   "cell_type": "markdown",
   "id": "f60a3fdf",
   "metadata": {},
   "source": [
    "## Display Data"
   ]
  },
  {
   "cell_type": "markdown",
   "id": "0bcb1702",
   "metadata": {},
   "source": [
    "Display things like the cleaned up waveform, SpO2%, temperature, etc. as needed. Meaning there has to be option whether to display it or not based on user input."
   ]
  },
  {
   "cell_type": "code",
   "execution_count": null,
   "id": "d4530efe",
   "metadata": {},
   "outputs": [],
   "source": [
    "def Display(disp_band):\n",
    "    #Displays the filtered absorbance waveform for 850 nm (arbitrary choice). Or could display SpO2 as a waveform as well\n",
    "    plt.plot(time, absorbances[1])\n",
    "    plt.xlabel(\"Time (s)\")\n",
    "    plt.ylabel(\"Frequency (Hz)\")\n",
    "    plt.title(\"Absorbance Waveform\")\n",
    "    \n",
    "#Example calling data for a certian sensor band number (like idk the third one)\n",
    "disp_sensorband = input(\"Enter which sensor band you'd like the view:\")\n",
    "Display(disp_band)"
   ]
  },
  {
   "cell_type": "markdown",
   "id": "a8bde4ae",
   "metadata": {},
   "source": [
    "## Choose which sensor bands to display"
   ]
  },
  {
   "cell_type": "markdown",
   "id": "5234d4f9",
   "metadata": {},
   "source": [
    "User has to be abe to choose which sensor band(s) they want to see data for. Default is the first like two (idk however much fits on the screen)."
   ]
  },
  {
   "cell_type": "code",
   "execution_count": null,
   "id": "a59bc8ac",
   "metadata": {},
   "outputs": [],
   "source": []
  },
  {
   "cell_type": "markdown",
   "id": "97bc618b",
   "metadata": {},
   "source": [
    "## Write data to csv file"
   ]
  },
  {
   "cell_type": "markdown",
   "id": "0976ce38",
   "metadata": {},
   "source": [
    "Each sensor band must have its own csv file. Keep csv files for now once the files are closed. Let user name the files."
   ]
  },
  {
   "cell_type": "code",
   "execution_count": null,
   "id": "08e291c4",
   "metadata": {},
   "outputs": [],
   "source": []
  },
  {
   "cell_type": "markdown",
   "id": "8a909fe6",
   "metadata": {},
   "source": [
    "## Delete old csv files"
   ]
  },
  {
   "cell_type": "markdown",
   "id": "34335033",
   "metadata": {},
   "source": [
    "Keep csv files until memory is nearly full, then delete the oldest csv file when a new one is created."
   ]
  },
  {
   "cell_type": "code",
   "execution_count": null,
   "id": "402ae5a4",
   "metadata": {},
   "outputs": [],
   "source": []
  },
  {
   "cell_type": "markdown",
   "id": "cffd1417",
   "metadata": {},
   "source": [
    "## Option to download certian csv files via USB"
   ]
  },
  {
   "cell_type": "code",
   "execution_count": null,
   "id": "b13b13d6",
   "metadata": {},
   "outputs": [],
   "source": []
  },
  {
   "cell_type": "markdown",
   "id": "7c15e4d6",
   "metadata": {},
   "source": [
    "## Which sensor bands are on the same rat"
   ]
  },
  {
   "cell_type": "markdown",
   "id": "553d72b0",
   "metadata": {},
   "source": [
    "Prompts the user to input which sensor bands are being used for the abdomen and head of the same rat. Allows for the cerebrospinal ratio. This data is saved until one or both of the sensor bands are turned off/disconnected. We may want to note this down in the csv file somewhere too in case they forget."
   ]
  },
  {
   "cell_type": "code",
   "execution_count": null,
   "id": "c73607ab",
   "metadata": {},
   "outputs": [],
   "source": []
  }
 ],
 "metadata": {
  "kernelspec": {
   "display_name": "Python 3 (ipykernel)",
   "language": "python",
   "name": "python3"
  },
  "language_info": {
   "codemirror_mode": {
    "name": "ipython",
    "version": 3
   },
   "file_extension": ".py",
   "mimetype": "text/x-python",
   "name": "python",
   "nbconvert_exporter": "python",
   "pygments_lexer": "ipython3",
   "version": "3.11.5"
  }
 },
 "nbformat": 4,
 "nbformat_minor": 5
}
